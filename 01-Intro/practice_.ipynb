{
 "cells": [
  {
   "cell_type": "code",
   "execution_count": 26,
   "id": "c7807baa-d373-4341-8b62-82c6c21eb06f",
   "metadata": {},
   "outputs": [],
   "source": [
    "import pandas as pd\n",
    "import sklearn\n",
    "import seaborn as sns\n",
    "import matplotlib.pyplot as plt\n",
    "from sklearn.feature_extraction import DictVectorizer\n",
    "from sklearn.linear_model import LinearRegression\n",
    "from sklearn.metrics import mean_squared_error\n",
    "import pickle"
   ]
  },
  {
   "cell_type": "code",
   "execution_count": 4,
   "id": "f8945643-3082-47bf-8d63-eba12d7a143f",
   "metadata": {},
   "outputs": [],
   "source": [
    "df = pd.read_parquet(\"https://d37ci6vzurychx.cloudfront.net/trip-data/yellow_tripdata_2023-01.parquet\")\n",
    "data2 = pd.read_parquet(\"https://d37ci6vzurychx.cloudfront.net/trip-data/yellow_tripdata_2023-02.parquet\")"
   ]
  },
  {
   "cell_type": "markdown",
   "id": "6d83ec72-d030-4d78-b520-fdf816a4a26b",
   "metadata": {},
   "source": [
    "# All Fucntions\n"
   ]
  },
  {
   "cell_type": "code",
   "execution_count": 30,
   "id": "b81772ee-4ff8-4792-912c-7f4be43f38f9",
   "metadata": {},
   "outputs": [],
   "source": [
    "def give_train_set(filename):\n",
    "    df = pd.read_parquet(filename)\n",
    "    df[\"duration\"] = pd.to_datetime(df.tpep_dropoff_datetime) - pd.to_datetime(df.tpep_pickup_datetime)\n",
    "    df[\"duration\"] = df.duration.apply(lambda td: td.total_seconds()/60)\n",
    "    pd.options.display.float_format = '{:.12f}'.format\n",
    "    filtered = df[df.duration >= 1]\n",
    "    filtered_furth =  filtered[filtered.duration <= 60]\n",
    "    features = [\"PULocationID\", \"DOLocationID\"]\n",
    "    filtered_furth[features] = filtered_furth[features].astype(str)\n",
    "    \n",
    "    dv = DictVectorizer()\n",
    "    features = [\"PULocationID\", \"DOLocationID\"]\n",
    "    train_dict = filtered_furth[features].to_dict(orient= 'records')\n",
    "    x_train = dv.fit_transform(train_dict)\n",
    "    y_train = filtered_furth[\"duration\"].values\n",
    "    return x_train, y_train,dv\n",
    "    \n",
    "    \n",
    "    \n",
    "def train_model(x_train, y_train):\n",
    "    lr = LinearRegression()\n",
    "    lr.fit(x_train, y_train)\n",
    "    return lr\n",
    "        \n",
    "    \n",
    "def predict_model(lr, x):\n",
    "    pred = lr.predict(x)\n",
    "    return pred\n",
    "    \n",
    "    \n",
    "\n",
    "def score(actual, predicted):\n",
    "    return mean_squared_error(actual, predicted,squared = False) "
   ]
  },
  {
   "cell_type": "markdown",
   "id": "7f89c2ea-0361-4f90-8e0a-b288a1636020",
   "metadata": {},
   "source": [
    "# Creating Model"
   ]
  },
  {
   "cell_type": "code",
   "execution_count": 31,
   "id": "6a9a19c0-f403-4bae-8fc1-255446620923",
   "metadata": {},
   "outputs": [
    {
     "name": "stderr",
     "output_type": "stream",
     "text": [
      "/tmp/ipykernel_26454/2894419409.py:9: SettingWithCopyWarning: \n",
      "A value is trying to be set on a copy of a slice from a DataFrame.\n",
      "Try using .loc[row_indexer,col_indexer] = value instead\n",
      "\n",
      "See the caveats in the documentation: https://pandas.pydata.org/pandas-docs/stable/user_guide/indexing.html#returning-a-view-versus-a-copy\n",
      "  filtered_furth[features] = filtered_furth[features].astype(str)\n"
     ]
    }
   ],
   "source": [
    "x_train, y_train,dv =  give_train_set(\"https://d37ci6vzurychx.cloudfront.net/trip-data/yellow_tripdata_2023-01.parquet\")"
   ]
  },
  {
   "cell_type": "code",
   "execution_count": 10,
   "id": "aba9f62a-f764-4bba-bbed-29a567e76df5",
   "metadata": {},
   "outputs": [],
   "source": [
    "model = train_model(x_train, y_train)"
   ]
  },
  {
   "cell_type": "code",
   "execution_count": 11,
   "id": "da0202a0-9f6d-4d11-8438-b850f31dc22f",
   "metadata": {},
   "outputs": [],
   "source": [
    "predicted = predict_model(model, x_train)"
   ]
  },
  {
   "cell_type": "code",
   "execution_count": 15,
   "id": "ce6a9f48-6d71-450e-bd84-e6dd52853e80",
   "metadata": {},
   "outputs": [
    {
     "name": "stderr",
     "output_type": "stream",
     "text": [
      "/home/codespace/.local/lib/python3.10/site-packages/sklearn/metrics/_regression.py:492: FutureWarning: 'squared' is deprecated in version 1.4 and will be removed in 1.6. To calculate the root mean squared error, use the function'root_mean_squared_error'.\n",
      "  warnings.warn(\n"
     ]
    }
   ],
   "source": [
    "score =  score(y_train, predicted)"
   ]
  },
  {
   "cell_type": "code",
   "execution_count": 16,
   "id": "001520e9-c199-4d59-a446-9fb53e3fffdb",
   "metadata": {
    "scrolled": true
   },
   "outputs": [
    {
     "data": {
      "text/plain": [
       "7.649261932106969"
      ]
     },
     "execution_count": 16,
     "metadata": {},
     "output_type": "execute_result"
    }
   ],
   "source": [
    "score"
   ]
  },
  {
   "cell_type": "markdown",
   "id": "3ee8186e-042b-4b75-b341-f06bc6aee58a",
   "metadata": {},
   "source": [
    "## Save model"
   ]
  },
  {
   "cell_type": "code",
   "execution_count": 35,
   "id": "5f09b29a-ee57-4a42-84cf-700041547cfc",
   "metadata": {},
   "outputs": [],
   "source": [
    "with open('lin_beg.bin', 'wb') as f_out:\n",
    "    pickle.dump((dv,model), f_out)"
   ]
  },
  {
   "cell_type": "code",
   "execution_count": 43,
   "id": "c91c1ad6-5e9a-4eb9-a73f-d955048345e5",
   "metadata": {},
   "outputs": [
    {
     "data": {
      "text/plain": [
       "VendorID                 3066766\n",
       "tpep_pickup_datetime     3066766\n",
       "tpep_dropoff_datetime    3066766\n",
       "passenger_count          2995023\n",
       "trip_distance            3066766\n",
       "RatecodeID               2995023\n",
       "store_and_fwd_flag       2995023\n",
       "PULocationID             3066766\n",
       "DOLocationID             3066766\n",
       "payment_type             3066766\n",
       "fare_amount              3066766\n",
       "extra                    3066766\n",
       "mta_tax                  3066766\n",
       "tip_amount               3066766\n",
       "tolls_amount             3066766\n",
       "improvement_surcharge    3066766\n",
       "total_amount             3066766\n",
       "congestion_surcharge     2995023\n",
       "airport_fee              2995023\n",
       "duration                 3066766\n",
       "dtype: int64"
      ]
     },
     "execution_count": 43,
     "metadata": {},
     "output_type": "execute_result"
    }
   ],
   "source": []
  },
  {
   "cell_type": "code",
   "execution_count": 17,
   "id": "70c27627-e535-4f96-aca4-44f913ef64a3",
   "metadata": {},
   "outputs": [
    {
     "ename": "NameError",
     "evalue": "name 'fraction_percen' is not defined",
     "output_type": "error",
     "traceback": [
      "\u001b[0;31m---------------------------------------------------------------------------\u001b[0m",
      "\u001b[0;31mNameError\u001b[0m                                 Traceback (most recent call last)",
      "Cell \u001b[0;32mIn[17], line 1\u001b[0m\n\u001b[0;32m----> 1\u001b[0m \u001b[43mfraction_percen\u001b[49m\n",
      "\u001b[0;31mNameError\u001b[0m: name 'fraction_percen' is not defined"
     ]
    }
   ],
   "source": []
  },
  {
   "cell_type": "code",
   "execution_count": 44,
   "id": "37f074da-9d8d-4b04-8c8b-d330cea717bb",
   "metadata": {},
   "outputs": [],
   "source": []
  },
  {
   "cell_type": "code",
   "execution_count": 45,
   "id": "bebc7df5-dd07-4c14-9d64-57a7370c032f",
   "metadata": {},
   "outputs": [],
   "source": []
  },
  {
   "cell_type": "code",
   "execution_count": 46,
   "id": "eaf2897d-80ce-4a15-beeb-963c3a068737",
   "metadata": {},
   "outputs": [
    {
     "name": "stderr",
     "output_type": "stream",
     "text": [
      "/tmp/ipykernel_65747/4221219245.py:1: SettingWithCopyWarning: \n",
      "A value is trying to be set on a copy of a slice from a DataFrame.\n",
      "Try using .loc[row_indexer,col_indexer] = value instead\n",
      "\n",
      "See the caveats in the documentation: https://pandas.pydata.org/pandas-docs/stable/user_guide/indexing.html#returning-a-view-versus-a-copy\n",
      "  filtered_furth[features] = filtered_furth[features].astype(str)\n"
     ]
    }
   ],
   "source": []
  },
  {
   "cell_type": "code",
   "execution_count": null,
   "id": "b0d30cd9-4ed8-40bc-99e3-cee7c99db1e7",
   "metadata": {},
   "outputs": [],
   "source": []
  },
  {
   "cell_type": "code",
   "execution_count": 48,
   "id": "d7f2b2d2-6e53-44b7-a1ec-5d0bf1c0ad46",
   "metadata": {},
   "outputs": [],
   "source": []
  },
  {
   "cell_type": "code",
   "execution_count": 49,
   "id": "54c9279c-855f-423d-87f5-adca623e37fe",
   "metadata": {},
   "outputs": [],
   "source": []
  },
  {
   "cell_type": "code",
   "execution_count": 50,
   "id": "dbbe99e4-cdbf-4d5e-abb3-47fa80e21344",
   "metadata": {},
   "outputs": [],
   "source": []
  },
  {
   "cell_type": "code",
   "execution_count": 58,
   "id": "4e932859-1618-4636-a473-14ebd507e5e5",
   "metadata": {},
   "outputs": [],
   "source": []
  },
  {
   "cell_type": "code",
   "execution_count": 66,
   "id": "7e9837dc-1814-4ea8-9019-efbb8c765e5c",
   "metadata": {},
   "outputs": [
    {
     "data": {
      "text/plain": [
       "7.649261932106969"
      ]
     },
     "execution_count": 66,
     "metadata": {},
     "output_type": "execute_result"
    }
   ],
   "source": [
    "score"
   ]
  },
  {
   "cell_type": "code",
   "execution_count": null,
   "id": "b9005633-9885-4662-b611-c9ae773b0ce2",
   "metadata": {},
   "outputs": [],
   "source": []
  }
 ],
 "metadata": {
  "kernelspec": {
   "display_name": "Python 3 (ipykernel)",
   "language": "python",
   "name": "python3"
  },
  "language_info": {
   "codemirror_mode": {
    "name": "ipython",
    "version": 3
   },
   "file_extension": ".py",
   "mimetype": "text/x-python",
   "name": "python",
   "nbconvert_exporter": "python",
   "pygments_lexer": "ipython3",
   "version": "3.10.13"
  }
 },
 "nbformat": 4,
 "nbformat_minor": 5
}
