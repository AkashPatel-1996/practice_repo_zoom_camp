{
 "cells": [
  {
   "cell_type": "code",
   "execution_count": 1,
   "id": "c7807baa-d373-4341-8b62-82c6c21eb06f",
   "metadata": {},
   "outputs": [],
   "source": [
    "import pandas as pd\n",
    "import sklearn\n",
    "import seaborn as sns\n",
    "import matplotlib.pyplot as plt\n",
    "from sklearn.feature_extraction import DictVectorizer\n",
    "from sklearn.linear_model import LinearRegression\n",
    "from sklearn.metrics import mean_squared_error\n",
    "import pickle\n",
    "import mlflow\n",
    "\n",
    "\n",
    "\n"
   ]
  },
  {
   "cell_type": "code",
   "execution_count": 2,
   "id": "f8945643-3082-47bf-8d63-eba12d7a143f",
   "metadata": {},
   "outputs": [],
   "source": [
    "df = pd.read_parquet(\"https://d37ci6vzurychx.cloudfront.net/trip-data/yellow_tripdata_2023-01.parquet\")\n",
    "data2 = pd.read_parquet(\"https://d37ci6vzurychx.cloudfront.net/trip-data/yellow_tripdata_2023-02.parquet\")"
   ]
  },
  {
   "cell_type": "markdown",
   "id": "6d83ec72-d030-4d78-b520-fdf816a4a26b",
   "metadata": {},
   "source": [
    "# All Fucntions\n"
   ]
  },
  {
   "cell_type": "code",
   "execution_count": 6,
   "id": "b81772ee-4ff8-4792-912c-7f4be43f38f9",
   "metadata": {},
   "outputs": [],
   "source": [
    "def give_train_set(filename):\n",
    "    df = pd.read_parquet(filename)\n",
    "    df[\"duration\"] = pd.to_datetime(df.tpep_dropoff_datetime) - pd.to_datetime(df.tpep_pickup_datetime)\n",
    "    df[\"duration\"] = df.duration.apply(lambda td: td.total_seconds()/60)\n",
    "    pd.options.display.float_format = '{:.12f}'.format\n",
    "    filtered = df[df.duration >= 1]\n",
    "    filtered_furth =  filtered[filtered.duration <= 60]\n",
    "    features = [\"PULocationID\", \"DOLocationID\"]\n",
    "    filtered_furth[features] = filtered_furth[features].astype(str)\n",
    "    \n",
    "    dv = DictVectorizer()\n",
    "    features = [\"PULocationID\", \"DOLocationID\"]\n",
    "    train_dict = filtered_furth[features].to_dict(orient= 'records')\n",
    "    x_train = dv.fit_transform(train_dict)\n",
    "    y_train = filtered_furth[\"duration\"].values\n",
    "    return x_train, y_train,dv\n",
    "    \n",
    "    \n",
    "    \n",
    "def train_model(x_train, y_train, data):\n",
    "    mlflow.set_tracking_uri(\"sqlite:///mlflow.db\")\n",
    "    mlflow.set_experiment(\"first experiment\")\n",
    "    with mlflow.start_run():\n",
    "        mlflow.set_tag(\"developer\", \"akash\")\n",
    "        mlflow.log_param(\"train_path\", data)\n",
    "        fit_bool = True\n",
    "        lr = LinearRegression(fit_intercept= fit_bool)\n",
    "        lr.fit(x_train, y_train)\n",
    "        pred = lr.predict(x_train)\n",
    "        rmse = mean_squared_error(y_train, pred,squared = False) \n",
    "        mlflow.log_param(\"rmse\", rmse)\n",
    "        \n",
    "    return lr\n",
    "        \n",
    "    \n",
    "def predict_model(lr, x):\n",
    "    pred = lr.predict(x)\n",
    "    return pred\n",
    "    \n",
    "    \n",
    "\n",
    "def score(actual, predicted):\n",
    "    return mean_squared_error(actual, predicted,squared = False) "
   ]
  },
  {
   "cell_type": "markdown",
   "id": "7f89c2ea-0361-4f90-8e0a-b288a1636020",
   "metadata": {},
   "source": [
    "# Creating Model"
   ]
  },
  {
   "cell_type": "code",
   "execution_count": 4,
   "id": "6a9a19c0-f403-4bae-8fc1-255446620923",
   "metadata": {},
   "outputs": [
    {
     "name": "stderr",
     "output_type": "stream",
     "text": [
      "/tmp/ipykernel_48245/1295326107.py:9: SettingWithCopyWarning: \n",
      "A value is trying to be set on a copy of a slice from a DataFrame.\n",
      "Try using .loc[row_indexer,col_indexer] = value instead\n",
      "\n",
      "See the caveats in the documentation: https://pandas.pydata.org/pandas-docs/stable/user_guide/indexing.html#returning-a-view-versus-a-copy\n",
      "  filtered_furth[features] = filtered_furth[features].astype(str)\n"
     ]
    }
   ],
   "source": [
    "data = \"https://d37ci6vzurychx.cloudfront.net/trip-data/yellow_tripdata_2023-01.parquet\"\n",
    "x_train, y_train,dv =  give_train_set(data)"
   ]
  },
  {
   "cell_type": "code",
   "execution_count": 7,
   "id": "aba9f62a-f764-4bba-bbed-29a567e76df5",
   "metadata": {},
   "outputs": [
    {
     "name": "stderr",
     "output_type": "stream",
     "text": [
      "/home/codespace/.local/lib/python3.10/site-packages/sklearn/metrics/_regression.py:492: FutureWarning: 'squared' is deprecated in version 1.4 and will be removed in 1.6. To calculate the root mean squared error, use the function'root_mean_squared_error'.\n",
      "  warnings.warn(\n"
     ]
    }
   ],
   "source": [
    "model = train_model(x_train, y_train,data)"
   ]
  },
  {
   "cell_type": "code",
   "execution_count": null,
   "id": "da0202a0-9f6d-4d11-8438-b850f31dc22f",
   "metadata": {},
   "outputs": [],
   "source": [
    "predicted = predict_model(model, x_train)"
   ]
  },
  {
   "cell_type": "code",
   "execution_count": null,
   "id": "ce6a9f48-6d71-450e-bd84-e6dd52853e80",
   "metadata": {},
   "outputs": [],
   "source": [
    "score =  score(y_train, predicted)"
   ]
  },
  {
   "cell_type": "code",
   "execution_count": null,
   "id": "001520e9-c199-4d59-a446-9fb53e3fffdb",
   "metadata": {
    "scrolled": true
   },
   "outputs": [],
   "source": [
    "score"
   ]
  },
  {
   "cell_type": "markdown",
   "id": "3ee8186e-042b-4b75-b341-f06bc6aee58a",
   "metadata": {},
   "source": [
    "## Save model"
   ]
  },
  {
   "cell_type": "code",
   "execution_count": 8,
   "id": "5f09b29a-ee57-4a42-84cf-700041547cfc",
   "metadata": {},
   "outputs": [],
   "source": [
    "with open('lin_beg.bin', 'wb') as f_out:\n",
    "    pickle.dump((dv,model), f_out)"
   ]
  },
  {
   "cell_type": "code",
   "execution_count": null,
   "id": "c91c1ad6-5e9a-4eb9-a73f-d955048345e5",
   "metadata": {},
   "outputs": [],
   "source": []
  },
  {
   "cell_type": "markdown",
   "id": "424ccbf6-3912-4a9b-a694-910063a7761b",
   "metadata": {},
   "source": [
    "# Experiment Tracking\n"
   ]
  },
  {
   "cell_type": "code",
   "execution_count": 9,
   "id": "37f074da-9d8d-4b04-8c8b-d330cea717bb",
   "metadata": {},
   "outputs": [],
   "source": [
    "import mlflow"
   ]
  },
  {
   "cell_type": "code",
   "execution_count": 10,
   "id": "f36a294f-2438-44c6-9a00-4bed300a5bcb",
   "metadata": {},
   "outputs": [
    {
     "data": {
      "text/plain": [
       "<Experiment: artifact_location='/workspaces/practice_repo_zoom_camp/mlruns/1', creation_time=1719742145975, experiment_id='1', last_update_time=1719742145975, lifecycle_stage='active', name='first experiment', tags={}>"
      ]
     },
     "execution_count": 10,
     "metadata": {},
     "output_type": "execute_result"
    }
   ],
   "source": [
    "mlflow.set_tracking_uri(\"sqlite:///mlflow.db\")\n",
    "mlflow.set_experiment(\"first experiment\")"
   ]
  },
  {
   "cell_type": "code",
   "execution_count": null,
   "id": "eaf2897d-80ce-4a15-beeb-963c3a068737",
   "metadata": {},
   "outputs": [],
   "source": []
  },
  {
   "cell_type": "markdown",
   "id": "46aade56-7629-4b03-8f5a-615e499fd801",
   "metadata": {},
   "source": [
    "## Use hyperparamter and training it to find best parameter"
   ]
  },
  {
   "cell_type": "code",
   "execution_count": 11,
   "id": "d7f2b2d2-6e53-44b7-a1ec-5d0bf1c0ad46",
   "metadata": {},
   "outputs": [],
   "source": [
    "import xgboost as xgb"
   ]
  },
  {
   "cell_type": "code",
   "execution_count": 12,
   "id": "54c9279c-855f-423d-87f5-adca623e37fe",
   "metadata": {},
   "outputs": [],
   "source": [
    "from hyperopt import fmin, tpe, hp, STATUS_OK, Trials\n",
    "from hyperopt.pyll import scope"
   ]
  },
  {
   "cell_type": "code",
   "execution_count": 13,
   "id": "dbbe99e4-cdbf-4d5e-abb3-47fa80e21344",
   "metadata": {},
   "outputs": [],
   "source": [
    "train = xgb.DMatrix(x_train, label=y_train)\n",
    "valid = xgb.DMatrix(x_train, label=y_train)"
   ]
  },
  {
   "cell_type": "code",
   "execution_count": 16,
   "id": "4e932859-1618-4636-a473-14ebd507e5e5",
   "metadata": {},
   "outputs": [],
   "source": [
    "def objective(params):\n",
    "    with mlflow.start_run():\n",
    "        mlflow.set_tag(\"model\", \"xgboost\")\n",
    "        mlflow.log_params(params)\n",
    "        booster = xgb.train(\n",
    "            params=params,\n",
    "            dtrain=train,\n",
    "            num_boost_round=1,\n",
    "            evals=[(valid, 'validation')],\n",
    "            early_stopping_rounds=1\n",
    "        )\n",
    "        y_pred = booster.predict(valid)\n",
    "        rmse = mean_squared_error(y_train, y_pred, squared=False)\n",
    "        mlflow.log_metric(\"rmse\", rmse)\n",
    "\n",
    "    return {'loss': rmse, 'status': STATUS_OK}"
   ]
  },
  {
   "cell_type": "code",
   "execution_count": 17,
   "id": "7e9837dc-1814-4ea8-9019-efbb8c765e5c",
   "metadata": {},
   "outputs": [
    {
     "name": "stdout",
     "output_type": "stream",
     "text": [
      "  0%|                                                                                                         | 0/1 [00:00<?, ?trial/s, best loss=?]"
     ]
    },
    {
     "name": "stderr",
     "output_type": "stream",
     "text": [
      "/usr/local/python/3.10.13/lib/python3.10/site-packages/xgboost/core.py:158: UserWarning: [10:59:03] WARNING: /workspace/src/objective/regression_obj.cu:227: reg:linear is now deprecated in favor of reg:squarederror.\n",
      "  warnings.warn(smsg, UserWarning)\n",
      "\n"
     ]
    },
    {
     "name": "stdout",
     "output_type": "stream",
     "text": [
      "[0]\tvalidation-rmse:9.05404                                                                                                                         \n",
      "100%|████████████████████████████████████████████████████████████████████████████████| 1/1 [00:01<00:00,  1.53s/trial, best loss: 9.054044984278436]\n"
     ]
    },
    {
     "name": "stderr",
     "output_type": "stream",
     "text": [
      "/home/codespace/.local/lib/python3.10/site-packages/sklearn/metrics/_regression.py:492: FutureWarning: 'squared' is deprecated in version 1.4 and will be removed in 1.6. To calculate the root mean squared error, use the function'root_mean_squared_error'.\n",
      "  warnings.warn(\n",
      "\n"
     ]
    }
   ],
   "source": [
    "search_space = {\n",
    "    'max_depth': scope.int(hp.quniform('max_depth', 4, 100, 1)),\n",
    "    'learning_rate': hp.loguniform('learning_rate', -3, 0),\n",
    "    'reg_alpha': hp.loguniform('reg_alpha', -5, -1),\n",
    "    'reg_lambda': hp.loguniform('reg_lambda', -6, -1),\n",
    "    'min_child_weight': hp.loguniform('min_child_weight', -1, 3),\n",
    "    'objective': 'reg:linear',\n",
    "    'seed': 42\n",
    "}\n",
    "\n",
    "best_result = fmin(\n",
    "    fn=objective,\n",
    "    space=search_space,\n",
    "    algo=tpe.suggest,\n",
    "    max_evals=1,\n",
    "    trials=Trials()\n",
    ")"
   ]
  },
  {
   "cell_type": "markdown",
   "id": "ac9d4efc-5608-4ee8-8546-7cc19f846cde",
   "metadata": {},
   "source": [
    "### once you get parameters you can use the paramters by using the paramters you got from above training"
   ]
  },
  {
   "cell_type": "code",
   "execution_count": null,
   "id": "85c01a6f-240f-4326-ad12-1f837e41f4c2",
   "metadata": {},
   "outputs": [],
   "source": []
  },
  {
   "cell_type": "code",
   "execution_count": null,
   "id": "de430aec-cb74-448e-9ce9-418f3f96c92e",
   "metadata": {},
   "outputs": [],
   "source": []
  }
 ],
 "metadata": {
  "kernelspec": {
   "display_name": "Python 3 (ipykernel)",
   "language": "python",
   "name": "python3"
  },
  "language_info": {
   "codemirror_mode": {
    "name": "ipython",
    "version": 3
   },
   "file_extension": ".py",
   "mimetype": "text/x-python",
   "name": "python",
   "nbconvert_exporter": "python",
   "pygments_lexer": "ipython3",
   "version": "3.10.13"
  }
 },
 "nbformat": 4,
 "nbformat_minor": 5
}
